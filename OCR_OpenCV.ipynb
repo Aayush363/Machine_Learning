{
 "cells": [
  {
   "cell_type": "code",
   "execution_count": null,
   "metadata": {},
   "outputs": [],
   "source": [
    "import zipfile\n",
    "from PIL import Image\n",
    "import pytesseract\n",
    "import cv2 as cv\n",
    "import numpy as np\n",
    "\n",
    "# loading the face detection classifier\n",
    "face_cascade = cv.CascadeClassifier('haarcascade_frontalface_default.xml')\n",
    "zip = zipfile.ZipFile('readonly/images.zip','r')\n",
    "zip.extractall()\n",
    "img_lst = []\n",
    "for name in zip.infolist():\n",
    "    display(name.filename)\n",
    "    i = Image.open(name.filename)\n",
    "    img_lst.append(i)"
   ]
  },
  {
   "cell_type": "code",
   "execution_count": null,
   "metadata": {},
   "outputs": [],
   "source": [
    "final_contactlist = []\n",
    "for i in range(len(img_lst)):\n",
    "    pil_img=img_lst[i].copy()\n",
    "    open_cv_version=pil_img.convert(\"L\")\n",
    "    open_cv_version.save(\"msi_r.png\")\n",
    "    cv_img=cv.imread('msi_r.png')\n",
    "    faces = face_cascade.detectMultiScale(cv_img,1.7)\n",
    "    img1 = []\n",
    "    for x,y,w,h in faces:\n",
    "        img1.append(img_lst[i].crop((x,y,x+w,y+h)))\n",
    "    if len(img1) == 0:\n",
    "        final_contactlist.append(\"But there were no faces in that file!\")\n",
    "    else:\n",
    "        import PIL\n",
    "        contact_sheet=PIL.Image.new(img1[0].mode, (100*5,100*2))\n",
    "        MAX = (100,100)\n",
    "        x= 0\n",
    "        y = 0\n",
    "        for s in img1:\n",
    "            s.thumbnail(MAX)\n",
    "            contact_sheet.paste(s, (x, y) )\n",
    "            if x+s.width >= 500:\n",
    "                x=0\n",
    "                y=y+100\n",
    "            else:\n",
    "                x=x+s.width\n",
    "        final_contactlist.append(contact_sheet)\n",
    "for i in range(len(img_lst)):\n",
    "    display(final_contactlist[i])"
   ]
  },
  {
   "cell_type": "code",
   "execution_count": null,
   "metadata": {},
   "outputs": [],
   "source": [
    "from kraken import pageseg\n",
    "final_strlist = []\n",
    "for i in range(len(img_lst)):\n",
    "    im = img_lst[i].copy()\n",
    "    imb_w = im.convert('L')\n",
    "    bound = pageseg.segment(imb_w.convert('1'))['boxes']\n",
    "    str = \"\"\n",
    "    for b in bound:\n",
    "        r = pytesseract.image_to_string(imb_w.crop(tuple(b)))\n",
    "        str = str+r\n",
    "    final_strlist.append(str)"
   ]
  },
  {
   "cell_type": "code",
   "execution_count": null,
   "metadata": {},
   "outputs": [],
   "source": [
    "wrd = input(\"Enter the word:\")\n",
    "for i in range(len(final_strlist)):\n",
    "    if wrd in final_strlist[i]:\n",
    "        k = 0\n",
    "        for name in zip.infolist():\n",
    "            if k == i:\n",
    "                print(\"Results found in file \"+ name.filename)\n",
    "            k+=1\n",
    "        display(final_contactlist[i])"
   ]
  }
 ],
 "metadata": {
  "kernelspec": {
   "display_name": "Python 3",
   "language": "python",
   "name": "python3"
  },
  "language_info": {
   "codemirror_mode": {
    "name": "ipython",
    "version": 3
   },
   "file_extension": ".py",
   "mimetype": "text/x-python",
   "name": "python",
   "nbconvert_exporter": "python",
   "pygments_lexer": "ipython3",
   "version": "3.7.4"
  }
 },
 "nbformat": 4,
 "nbformat_minor": 4
}
